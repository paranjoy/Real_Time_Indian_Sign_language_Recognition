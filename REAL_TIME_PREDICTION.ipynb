{
 "cells": [
  {
   "cell_type": "code",
   "execution_count": 1,
   "metadata": {},
   "outputs": [
    {
     "name": "stderr",
     "output_type": "stream",
     "text": [
      "Using TensorFlow backend.\n"
     ]
    }
   ],
   "source": [
    "import numpy as np\n",
    "import matplotlib.pyplot as plt\n",
    "import matplotlib\n",
    "import os\n",
    "import cv2\n",
    "from PIL import Image\n",
    "from numpy import *\n",
    "import imutils\n",
    "import freenect\n",
    "import tkinter as tk\n",
    "import keras\n",
    "from keras.models import load_model"
   ]
  },
  {
   "cell_type": "code",
   "execution_count": 2,
   "metadata": {},
   "outputs": [],
   "source": [
    "labels_name = { 0:'0', 1:'1',  2:'2',  3:'3',  4:'4', 5:'5',  6:'6',  7:'7',  8:'8', 9:'9' , 10:'A', 11:'B',\n",
    "              12:'C', 13:'D', 14:'E', 15:'F', 16:'G', 17:'H', 18:'I', 19:'J', 20:'K', 21:'L', 22:'M', 23:'N',\n",
    "              24:'O', 25:'P',26: 'Q', 27:'R',28: 'S', 29:'T', 30:'U', 31:'V', 32:'W', 33:'X', 34:'Y', 35:'Z'}"
   ]
  },
  {
   "cell_type": "code",
   "execution_count": 3,
   "metadata": {
    "scrolled": false
   },
   "outputs": [
    {
     "name": "stdout",
     "output_type": "stream",
     "text": [
      "WARNING:tensorflow:From /home/paranjoy/anaconda2/lib/python2.7/site-packages/tensorflow/python/framework/op_def_library.py:263: colocate_with (from tensorflow.python.framework.ops) is deprecated and will be removed in a future version.\n",
      "Instructions for updating:\n",
      "Colocations handled automatically by placer.\n",
      "WARNING:tensorflow:From /home/paranjoy/anaconda2/lib/python2.7/site-packages/keras/backend/tensorflow_backend.py:3445: calling dropout (from tensorflow.python.ops.nn_ops) with keep_prob is deprecated and will be removed in a future version.\n",
      "Instructions for updating:\n",
      "Please use `rate` instead of `keep_prob`. Rate should be set to `rate = 1 - keep_prob`.\n",
      "WARNING:tensorflow:From /home/paranjoy/anaconda2/lib/python2.7/site-packages/tensorflow/python/ops/math_ops.py:3066: to_int32 (from tensorflow.python.ops.math_ops) is deprecated and will be removed in a future version.\n",
      "Instructions for updating:\n",
      "Use tf.cast instead.\n",
      "_________________________________________________________________\n",
      "Layer (type)                 Output Shape              Param #   \n",
      "=================================================================\n",
      "conv2d_1 (Conv2D)            (None, 61, 91, 32)        896       \n",
      "_________________________________________________________________\n",
      "activation_1 (Activation)    (None, 61, 91, 32)        0         \n",
      "_________________________________________________________________\n",
      "max_pooling2d_1 (MaxPooling2 (None, 30, 45, 32)        0         \n",
      "_________________________________________________________________\n",
      "conv2d_2 (Conv2D)            (None, 28, 43, 32)        9248      \n",
      "_________________________________________________________________\n",
      "activation_2 (Activation)    (None, 28, 43, 32)        0         \n",
      "_________________________________________________________________\n",
      "max_pooling2d_2 (MaxPooling2 (None, 14, 21, 32)        0         \n",
      "_________________________________________________________________\n",
      "conv2d_3 (Conv2D)            (None, 12, 19, 32)        9248      \n",
      "_________________________________________________________________\n",
      "activation_3 (Activation)    (None, 12, 19, 32)        0         \n",
      "_________________________________________________________________\n",
      "dropout_1 (Dropout)          (None, 12, 19, 32)        0         \n",
      "_________________________________________________________________\n",
      "flatten_1 (Flatten)          (None, 7296)              0         \n",
      "_________________________________________________________________\n",
      "dense_1 (Dense)              (None, 128)               934016    \n",
      "_________________________________________________________________\n",
      "dropout_2 (Dropout)          (None, 128)               0         \n",
      "_________________________________________________________________\n",
      "dense_2 (Dense)              (None, 36)                4644      \n",
      "_________________________________________________________________\n",
      "activation_4 (Activation)    (None, 36)                0         \n",
      "=================================================================\n",
      "Total params: 958,052\n",
      "Trainable params: 958,052\n",
      "Non-trainable params: 0\n",
      "_________________________________________________________________\n"
     ]
    }
   ],
   "source": [
    "# load model\n",
    "model = load_model('final_RGB_MODEL_&_ARCHITECTURE.h5')\n",
    "# summarize model.\n",
    "model.summary()"
   ]
  },
  {
   "cell_type": "code",
   "execution_count": 4,
   "metadata": {},
   "outputs": [],
   "source": [
    "def get_video():\n",
    "    array,_ = freenect.sync_get_video()\n",
    "    arr = array.astype(np.uint8)\n",
    "    array = cv2.cvtColor(arr,cv2.COLOR_RGB2BGR)\n",
    "    return array\n",
    "\n",
    "def get_depth_segmented():\n",
    "    array,_ = freenect.sync_get_depth_reg()\n",
    "    arr = array.astype(np.uint8)\n",
    "    arr = np.where( array > 750, arr,0).astype(np.uint8)\n",
    "    array = np.where( array < 1000, arr,0).astype(np.uint8)\n",
    "    return array\n",
    "\n",
    "def get_depth():\n",
    "    array,_ = freenect.sync_get_depth_reg()\n",
    "    arr = array.astype(np.uint8)\n",
    "    return arr\n",
    "\n",
    "\n",
    "def predict(img):\n",
    "    input_image = img\n",
    "    img_cols = 93\n",
    "    img_rows = 63\n",
    "    input_image = cv2.resize(input_image,(img_cols,img_rows),interpolation = cv2.INTER_AREA)\n",
    "    img_list = []\n",
    "    img_list.append(input_image)\n",
    "    img_list = np.array( img_list, dtype=np.float32)\n",
    "    img_list = np.multiply(img_list, 1.0 / 255.0)\n",
    "    m = model.predict_classes(img_list)\n",
    "    return m"
   ]
  },
  {
   "cell_type": "code",
   "execution_count": 6,
   "metadata": {},
   "outputs": [],
   "source": [
    "if __name__ == \"__main__\":  \n",
    "    \n",
    "    while 1:\n",
    "        frame = get_video()\n",
    "        frame = frame[135:345,165:475]\n",
    "        depth = get_depth()\n",
    "        depth = depth[135:345,165:475]\n",
    "        depth_seg = get_depth_segmented()\n",
    "        depth_seg = depth_seg[135:345,165:475]\n",
    "        ret , mask = cv2.threshold(depth_seg, 0, 255, cv2.THRESH_BINARY)\n",
    "        #mask_inv = cv2.bitwise_not(mask)\n",
    "        img1_bg = cv2.bitwise_and(frame,frame,mask = mask)\n",
    "        \n",
    "        #depth_seg = cv2.cvtColor(depth_seg,cv2.COLOR_BGR2RGB)\n",
    "        m = predict(img1_bg)\n",
    "        \n",
    "        text = (labels_name[m[0]])\n",
    "        txt = str(text)\n",
    "        img = np.zeros((512,512,3), np.uint8)\n",
    "        font = cv2.FONT_HERSHEY_SIMPLEX\n",
    "        cv2.putText(img,txt,(195,300), font, 8,(255,255,255),10,cv2.LINE_AA)\n",
    "        \n",
    "        img1_bg = cv2.resize(img1_bg,(465,315),interpolation = cv2.INTER_AREA)\n",
    "        \n",
    "        cv2.imshow('RGB',frame)\n",
    "        cv2.imshow('Depth Segmented',depth_seg)\n",
    "        cv2.imshow(\"rgb segmented\", img1_bg)\n",
    "        cv2.imshow(\"depth\", depth)\n",
    "        cv2.imshow('result', img)\n",
    "        \n",
    "        # quit program when 'esc' key is pressed\n",
    "        k = cv2.waitKey(5) & 0xFF\n",
    "        if k == 27:\n",
    "            break\n",
    "        #if k ==  ord('s'):\n",
    "            #f = 2\n",
    "            #cv2.imwrite(\"/home/paranjoy/Documents/t6.jpg\" , img1_bg)\n",
    "            #break\n",
    "\n",
    "    cv2.destroyAllWindows()"
   ]
  },
  {
   "cell_type": "code",
   "execution_count": 16,
   "metadata": {},
   "outputs": [
    {
     "data": {
      "text/plain": [
       "(210, 310, 3)"
      ]
     },
     "execution_count": 16,
     "metadata": {},
     "output_type": "execute_result"
    }
   ],
   "source": [
    "img1_bg.shape"
   ]
  },
  {
   "cell_type": "code",
   "execution_count": 17,
   "metadata": {},
   "outputs": [
    {
     "data": {
      "text/plain": [
       "(210, 310)"
      ]
     },
     "execution_count": 17,
     "metadata": {},
     "output_type": "execute_result"
    }
   ],
   "source": [
    "depth_seg.shape"
   ]
  },
  {
   "cell_type": "code",
   "execution_count": null,
   "metadata": {},
   "outputs": [],
   "source": []
  }
 ],
 "metadata": {
  "kernelspec": {
   "display_name": "Python 3",
   "language": "python",
   "name": "python3"
  },
  "language_info": {
   "codemirror_mode": {
    "name": "ipython",
    "version": 3
   },
   "file_extension": ".py",
   "mimetype": "text/x-python",
   "name": "python",
   "nbconvert_exporter": "python",
   "pygments_lexer": "ipython3",
   "version": "3.7.4"
  }
 },
 "nbformat": 4,
 "nbformat_minor": 2
}
